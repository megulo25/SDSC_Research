{
 "cells": [
  {
   "cell_type": "code",
   "execution_count": null,
   "metadata": {},
   "outputs": [],
   "source": [
    "from keras import Sequential\n",
    "from keras.layers.convolutional import Conv2D\n",
    "from keras.layers.convolutional import MaxPooling2D\n",
    "from keras.layers import Flatten\n",
    "from keras.layers.core import Dense"
   ]
  },
  {
   "cell_type": "code",
   "execution_count": null,
   "metadata": {},
   "outputs": [],
   "source": [
    "# Import data\n",
    "import tflearn.datasets.oxflower17 as oxflower17\n",
    "x, y = oxflower17.load_data(one_hot=True)"
   ]
  },
  {
   "cell_type": "code",
   "execution_count": null,
   "metadata": {},
   "outputs": [],
   "source": [
    "from keras.utils.training_utils import multi_gpu_model"
   ]
  },
  {
   "cell_type": "code",
   "execution_count": null,
   "metadata": {},
   "outputs": [],
   "source": [
    "def AlexNet(num_classes):\n",
    "\n",
    "    # Initialize model\n",
    "    model = Sequential()\n",
    "\n",
    "    # 1. Convolution\n",
    "    model.add(\n",
    "        Conv2D(\n",
    "            filters=96, \n",
    "            kernel_size=(11,11),\n",
    "            strides=(4,4),\n",
    "            activation='relu',\n",
    "            padding='valid',\n",
    "            input_shape=(224, 224, 3)\n",
    "        )\n",
    "    )\n",
    "\n",
    "    # 2. Pooling\n",
    "    model.add(\n",
    "        MaxPooling2D(\n",
    "            pool_size=(3,3),\n",
    "            strides=(2,2),\n",
    "            padding='valid'\n",
    "        )\n",
    "    )\n",
    "    \n",
    "    # 3. Convolution\n",
    "    model.add(\n",
    "        Conv2D(\n",
    "            filters=256,\n",
    "            kernel_size=(5,5),\n",
    "            strides=(1,1),\n",
    "            padding=\"same\"            \n",
    "        )\n",
    "    )\n",
    "\n",
    "    # 4. Pooling\n",
    "    model.add(\n",
    "        MaxPooling2D(\n",
    "            pool_size=(3,3),\n",
    "            strides=(2,2),\n",
    "            padding='valid'\n",
    "        )\n",
    "    )\n",
    "\n",
    "    # 5. Convolution\n",
    "    model.add(\n",
    "        Conv2D(\n",
    "            filters=384,\n",
    "            kernel_size=(3,3),\n",
    "            strides=(1,1),\n",
    "            padding='same'\n",
    "        )\n",
    "    )\n",
    "\n",
    "    # 6. Convolution\n",
    "    model.add(\n",
    "        Conv2D(\n",
    "            filters=384,\n",
    "            kernel_size=(3,3),\n",
    "            strides=(1,1),\n",
    "            padding='same'\n",
    "        )\n",
    "    )\n",
    "\n",
    "    # 7. Convolution\n",
    "    model.add(\n",
    "        Conv2D(\n",
    "            filters=256,\n",
    "            kernel_size=(3,3),\n",
    "            strides=(1,1),\n",
    "            padding='same'\n",
    "        )\n",
    "    )\n",
    "\n",
    "    # 8. Pooling\n",
    "    model.add(\n",
    "        MaxPooling2D(\n",
    "            pool_size=(3,3),\n",
    "            strides=(2,2),\n",
    "            padding='valid'\n",
    "        )\n",
    "    )\n",
    "\n",
    "    # 9. Flatten to a Fully-Connected Layer\n",
    "    model.add(Flatten())\n",
    "\n",
    "    # 10. Fully-Connected Layer\n",
    "    model.add(\n",
    "        Dense(\n",
    "            units=4096,\n",
    "            activation='relu'\n",
    "        )\n",
    "    )\n",
    "\n",
    "    # 11. Fully-Connected Layer\n",
    "    model.add(\n",
    "        Dense(\n",
    "            units=4096,\n",
    "            activation='relu'\n",
    "        )\n",
    "    )\n",
    "\n",
    "    # 12. Softmax\n",
    "    model.add(\n",
    "        Dense(\n",
    "            units=num_classes,\n",
    "            activation='softmax'\n",
    "        )\n",
    "    )\n",
    "\n",
    "    return model"
   ]
  },
  {
   "cell_type": "code",
   "execution_count": null,
   "metadata": {},
   "outputs": [],
   "source": [
    "# (4) Compile\n",
    "model = AlexNet(17)"
   ]
  },
  {
   "cell_type": "code",
   "execution_count": null,
   "metadata": {},
   "outputs": [],
   "source": [
    "model.summary()"
   ]
  },
  {
   "cell_type": "code",
   "execution_count": null,
   "metadata": {},
   "outputs": [],
   "source": [
    "model.compile(loss='categorical_crossentropy', optimizer='adam',\\\n",
    " metrics=['accuracy'])"
   ]
  },
  {
   "cell_type": "code",
   "execution_count": null,
   "metadata": {},
   "outputs": [],
   "source": [
    "# (5) Train\n",
    "model.fit(x, y, batch_size=64, epochs=1, verbose=2, \\\n",
    "validation_split=0.2, shuffle=True)"
   ]
  }
 ],
 "metadata": {
  "kernelspec": {
   "display_name": "Python 3",
   "language": "python",
   "name": "python3"
  },
  "language_info": {
   "codemirror_mode": {
    "name": "ipython",
    "version": 3
   },
   "file_extension": ".py",
   "mimetype": "text/x-python",
   "name": "python",
   "nbconvert_exporter": "python",
   "pygments_lexer": "ipython3",
   "version": "3.6.5"
  }
 },
 "nbformat": 4,
 "nbformat_minor": 2
}
