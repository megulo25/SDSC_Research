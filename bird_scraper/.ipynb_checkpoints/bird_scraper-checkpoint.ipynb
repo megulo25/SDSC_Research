{
 "cells": [
  {
   "cell_type": "code",
   "execution_count": 1,
   "metadata": {},
   "outputs": [],
   "source": [
    "from bs4 import BeautifulSoup\n",
    "from splinter import Browser\n",
    "import os"
   ]
  },
  {
   "cell_type": "code",
   "execution_count": 2,
   "metadata": {},
   "outputs": [],
   "source": [
    "def startBrowser(url):\n",
    "    # Inialiaze headless browser\n",
    "    executable_path = {'executable_path': os.path.join(\"driver\",\"chromedriver\")}\n",
    "    browser = Browser('chrome', **executable_path, headless=False)\n",
    "    print(\"Initialized the headless browser!\\n\")\n",
    "    \n",
    "    # URl\n",
    "    browser.visit(url)\n",
    "    print(\"Visited the site!\\n\")\n",
    "    return browser"
   ]
  },
  {
   "cell_type": "code",
   "execution_count": 3,
   "metadata": {},
   "outputs": [],
   "source": [
    "def clean_class_list(list_):\n",
    "    new_list = []\n",
    "    # Loop and clean\n",
    "    for list_item in list_:\n",
    "        # Split\n",
    "        split_item = list_item.split()\n",
    "        # Keep only the birds name\n",
    "        joined_list = ' '.join(split_item[1:])\n",
    "        new_list.append(joined_list)\n",
    "    return new_list"
   ]
  },
  {
   "cell_type": "code",
   "execution_count": 4,
   "metadata": {},
   "outputs": [],
   "source": [
    "def getData(browser):\n",
    "    'Return as Dictionary'\n",
    "    # Get the Order\n",
    "    \n",
    "    # Get the Family\n",
    "    \n",
    "    # Get the Habitat\n",
    "    \n",
    "    # Get the Food\n",
    "    \n",
    "    # Get the Nesting\n",
    "    \n",
    "    # Get the Behavior\n",
    "    \n",
    "    # Get the Conservation\n",
    "    \n",
    "    # Grab the cool facts (optional)\n",
    "    \n",
    "    # Consider getting more info from 'ID info'\n",
    "    pass"
   ]
  },
  {
   "cell_type": "code",
   "execution_count": 5,
   "metadata": {},
   "outputs": [],
   "source": [
    "# Get a list of all the birds\n",
    "with open('classes.txt', 'r') as file_reader:\n",
    "    class_list = file_reader.readlines()"
   ]
  },
  {
   "cell_type": "code",
   "execution_count": 6,
   "metadata": {},
   "outputs": [],
   "source": [
    "# Clean the list\n",
    "cleaned_list = clean_class_list(class_list)\n",
    "cleaned_list = cleaned_list[1:]"
   ]
  },
  {
   "cell_type": "code",
   "execution_count": 7,
   "metadata": {},
   "outputs": [
    {
     "name": "stdout",
     "output_type": "stream",
     "text": [
      "Starting chrome browser\n",
      "Initialized the headless browser!\n",
      "\n",
      "Visited the site!\n",
      "\n"
     ]
    }
   ],
   "source": [
    "# Open up the chrome browser\n",
    "url = 'https://www.allaboutbirds.org/search/'\n",
    "print('Starting chrome browser')\n",
    "browser = startBrowser(url)"
   ]
  },
  {
   "cell_type": "code",
   "execution_count": 8,
   "metadata": {},
   "outputs": [
    {
     "name": "stdout",
     "output_type": "stream",
     "text": [
      "Theres a problem\n",
      "Theres a problem\n",
      "Theres a problem\n",
      "Theres a problem\n",
      "Theres a problem\n",
      "Theres a problem\n"
     ]
    }
   ],
   "source": [
    "# Loop through each item in the list\n",
    "for item in cleaned_list:\n",
    "\n",
    "    # Input Search query\n",
    "    browser.find_by_tag('form').first.find_by_tag('input').fill(item)\n",
    "\n",
    "    # Submit query\n",
    "    browser.find_by_tag('form').first.find_by_tag('button').first.click()\n",
    "    \n",
    "    are_there_more = True\n",
    "    num_problems = 0\n",
    "    while are_there_more:\n",
    "        \n",
    "        try:\n",
    "            # Click 'See More Birds' to get an exhaustive list of birds\n",
    "            browser.find_by_id('btn-guide-more').click()\n",
    "        except:\n",
    "            print('Theres a problem')\n",
    "            num_problems+=1\n",
    "            \n",
    "            if num_problems > 5:\n",
    "                break\n",
    "\n",
    "    # Get list of birds items using soup\n",
    "    'Soup will get each link from the <a> tag inside each <li>'\n",
    "    current_html = browser.html\n",
    "    soup = BeautifulSoup(current_html, 'html.parser')\n",
    "    \n",
    "    # Get all the <a> tags\n",
    "    a_list = soup.find_all('a', class_='audio-img', href=True)\n",
    "    \n",
    "    # Grab all the href from the <a> tags\n",
    "    href_list = []\n",
    "    for a in a_list:\n",
    "        href_list.append(a.get('href'))\n",
    "        \n",
    "    # Explore those sites and gather the necessary info.\n",
    "    for href in href_list:\n",
    "        browser.visit(href)\n",
    "        \n",
    "        # Get the current html\n",
    "        info_page_html = browser.html\n",
    "        info_soup = BeautifulSoup(info_page_html, 'html.parser')\n",
    "        \n",
    "        # Get the data\n",
    "        dict_ = getData(browser)\n",
    "        \n",
    "        # Add to Mongodb\n",
    "        \n",
    "        \n",
    "        break\n",
    "    break"
   ]
  },
  {
   "cell_type": "code",
   "execution_count": 10,
   "metadata": {},
   "outputs": [],
   "source": [
    "ull = info_soup.find_all('ul', class_='additional-info')"
   ]
  },
  {
   "cell_type": "code",
   "execution_count": 14,
   "metadata": {},
   "outputs": [
    {
     "data": {
      "text/plain": [
       "[<ul class=\"additional-info\"><li><span>ORDER:</span> Anseriformes</li><li><span>FAMILY:</span> Anatidae</li></ul>]"
      ]
     },
     "execution_count": 14,
     "metadata": {},
     "output_type": "execute_result"
    }
   ],
   "source": [
    "ull"
   ]
  },
  {
   "cell_type": "code",
   "execution_count": 13,
   "metadata": {},
   "outputs": [
    {
     "data": {
      "text/plain": [
       "bs4.element.ResultSet"
      ]
     },
     "execution_count": 13,
     "metadata": {},
     "output_type": "execute_result"
    }
   ],
   "source": [
    "type(ull)"
   ]
  },
  {
   "cell_type": "code",
   "execution_count": 12,
   "metadata": {},
   "outputs": [
    {
     "data": {
      "text/plain": [
       "1"
      ]
     },
     "execution_count": 12,
     "metadata": {},
     "output_type": "execute_result"
    }
   ],
   "source": [
    "len(ull)"
   ]
  },
  {
   "cell_type": "code",
   "execution_count": 21,
   "metadata": {},
   "outputs": [],
   "source": [
    "a = ull[0].find_all('li')"
   ]
  },
  {
   "cell_type": "code",
   "execution_count": 23,
   "metadata": {},
   "outputs": [],
   "source": [
    "b = a[0]"
   ]
  },
  {
   "cell_type": "code",
   "execution_count": 26,
   "metadata": {},
   "outputs": [],
   "source": [
    "c = b.get_text()"
   ]
  },
  {
   "cell_type": "code",
   "execution_count": 28,
   "metadata": {},
   "outputs": [
    {
     "data": {
      "text/plain": [
       "['ORDER:', 'Anseriformes']"
      ]
     },
     "execution_count": 28,
     "metadata": {},
     "output_type": "execute_result"
    }
   ],
   "source": [
    "c.split()"
   ]
  },
  {
   "cell_type": "code",
   "execution_count": null,
   "metadata": {},
   "outputs": [],
   "source": []
  }
 ],
 "metadata": {
  "kernelspec": {
   "display_name": "Python 3",
   "language": "python",
   "name": "python3"
  },
  "language_info": {
   "codemirror_mode": {
    "name": "ipython",
    "version": 3
   },
   "file_extension": ".py",
   "mimetype": "text/x-python",
   "name": "python",
   "nbconvert_exporter": "python",
   "pygments_lexer": "ipython3",
   "version": "3.6.5"
  }
 },
 "nbformat": 4,
 "nbformat_minor": 2
}
